{
 "cells": [
  {
   "cell_type": "code",
   "execution_count": 2,
   "metadata": {},
   "outputs": [],
   "source": [
    "import tweepy\n",
    "import pandas as pd\n",
    "\n",
    "api_key = \"OxOkkZIz9Eu4RJFKksBN17Wh2\"\n",
    "api_key_secret = \"rGOT55FAbJ83TvFwfMSU2Z3v2tnPEVbonmsXZ3yy1SU40vlie0\"\n",
    "access_token = \"1003133605499899904-ZDvGS0WYAHaauFCcyGMbBmXtb18bmh\"\n",
    "access_token_secret = \"PAXTE5htdG857KzxmPjrcfPZpt10CNrD0y209F39Amkzo\""
   ]
  },
  {
   "cell_type": "code",
   "execution_count": 3,
   "metadata": {},
   "outputs": [
    {
     "name": "stdout",
     "output_type": "stream",
     "text": [
      "                                                  Tweet\n",
      "0     RT @adaymoodd: หารองพื้นถูกและดี แนะนำรองพื้นแ...\n",
      "1     RT @ssnnooi: สายชีสต้องลองง!!! ใหม่นุ้ง #ทาโรเ...\n",
      "2     RT @aispdiary: แท่งเดียวจบ #bewildcosmetics รุ...\n",
      "3     RT @ssnnooi: มาเมคลุคจากลิปซองนามิ💗 ถูกและดีมี...\n",
      "4     RT @siriluckxn: มื้อสุดท้ายก่อนนอน ต้องกินอะไร...\n",
      "...                                                 ...\n",
      "5095  RT @iffieben: ของใหม่มา ขอลองหน่อย #กาดไพร #เซ...\n",
      "5096  RT @bhatranits: สาวกนอนน้อยแต่นอนนะ นอนยังไงก็...\n",
      "5097  RT @JammyRaksa: ทาปุ๊บขาวปั๊บของแท้❕️#เซรั่มนา...\n",
      "5098  RT @soundkaoreview: มารีวิวเซรั่ม 2 สูตรจาก #ก...\n",
      "5099  RT @bhatranits: สาวกนอนน้อยแต่นอนนะ นอนยังไงก็...\n",
      "\n",
      "[5100 rows x 1 columns]\n"
     ]
    }
   ],
   "source": [
    "auth = tweepy.OAuth1UserHandler(\n",
    "   api_key, api_key_secret, access_token, access_token_secret\n",
    ")\n",
    "\n",
    "api = tweepy.API(auth)\n",
    "\n",
    "#search tweets\n",
    "keywords = '#รีวิวเซเว่น'\n",
    "limit=10000\n",
    "\n",
    "tweets = tweepy.Cursor(api.search_tweets, q=keywords, count=100, tweet_mode='extended').items(limit)\n",
    "columns = ['Tweet']\n",
    "data = []\n",
    "\n",
    "#create dataframe\n",
    "data_csv = []\n",
    "\n",
    "for tweet in tweets:\n",
    "   data.append([tweet.full_text])\n",
    "\n",
    "df = pd.DataFrame(data, columns=columns)\n",
    "print(df)\n",
    "\n",
    "df2 = pd.DataFrame(data, columns=columns)\n",
    "# df2.to_csv('7-101dataset.csv')\n",
    "df2.to_csv('3.csv')"
   ]
  },
  {
   "cell_type": "code",
   "execution_count": 5,
   "metadata": {},
   "outputs": [
    {
     "name": "stdout",
     "output_type": "stream",
     "text": [
      "                                                  Tweet  \\\n",
      "0     RT @adaymoodd: หารองพื้นถูกและดี แนะนำรองพื้นแ...   \n",
      "1     RT @siriluckxn: ตื่นเช้ามาคือง่วงไม่ไหว ก่อนออ...   \n",
      "2     RT @adaymoodd: หารองพื้นถูกและดี แนะนำรองพื้นแ...   \n",
      "3     ส่งต่อเคส IPhone 13 promax (ไม่เคยใส่)\\n\\n🌷  4...   \n",
      "4     RT @adaymoodd: หารองพื้นถูกและดี แนะนำรองพื้นแ...   \n",
      "...                                                 ...   \n",
      "5095  RT @kbkhatcha: หอยลายผัดฉ่า กับ หอยลายปุ้มปุ้ย...   \n",
      "5096  RT @foeiichnun: เห็นรีวิว #เซรั่มมะขามป้อม ที่...   \n",
      "5097  RT @Pongjaichaiarai: วาเลนไทน์จะมีเดตหรือไม่มี...   \n",
      "5098  RT @Pongjaichaiarai: วาเลนไทน์จะมีเดตหรือไม่มี...   \n",
      "5099  RT @Pongjaichaiarai: วาเลนไทน์จะมีเดตหรือไม่มี...   \n",
      "\n",
      "                          Time            User  \n",
      "0    2023-02-24 05:53:48+00:00          BBEZNZ  \n",
      "1    2023-02-24 05:47:12+00:00  lilacxcrescent  \n",
      "2    2023-02-24 05:44:57+00:00  lilacxcrescent  \n",
      "3    2023-02-24 05:42:24+00:00        jn199892  \n",
      "4    2023-02-24 05:35:30+00:00       natjawapd  \n",
      "...                        ...             ...  \n",
      "5095 2023-02-14 05:42:17+00:00        1881_you  \n",
      "5096 2023-02-14 05:40:23+00:00      foeiichnun  \n",
      "5097 2023-02-14 05:38:06+00:00      foeiichnun  \n",
      "5098 2023-02-14 05:34:54+00:00        iffieben  \n",
      "5099 2023-02-14 05:34:15+00:00       jellllnrr  \n",
      "\n",
      "[5100 rows x 3 columns]\n"
     ]
    }
   ],
   "source": [
    "auth = tweepy.OAuth1UserHandler(\n",
    "   api_key, api_key_secret, access_token, access_token_secret\n",
    ")\n",
    "\n",
    "api = tweepy.API(auth)\n",
    "\n",
    "#search tweets\n",
    "keywords = '#รีวิวเซเว่น'\n",
    "limit=10000\n",
    "\n",
    "tweets = tweepy.Cursor(api.search_tweets, q=keywords, count=100, tweet_mode='extended').items(limit)\n",
    "columns = ['Tweet','Time','User']\n",
    "data = []\n",
    "\n",
    "#create dataframe\n",
    "data_csv = []\n",
    "\n",
    "for tweet in tweets:\n",
    "    data.append([tweet.full_text,tweet.created_at,tweet.user.screen_name])\n",
    "\n",
    "df = pd.DataFrame(data, columns=columns)\n",
    "print(df)\n",
    "\n",
    "\n"
   ]
  },
  {
   "cell_type": "code",
   "execution_count": 6,
   "metadata": {},
   "outputs": [
    {
     "data": {
      "text/html": [
       "<div>\n",
       "<style scoped>\n",
       "    .dataframe tbody tr th:only-of-type {\n",
       "        vertical-align: middle;\n",
       "    }\n",
       "\n",
       "    .dataframe tbody tr th {\n",
       "        vertical-align: top;\n",
       "    }\n",
       "\n",
       "    .dataframe thead th {\n",
       "        text-align: right;\n",
       "    }\n",
       "</style>\n",
       "<table border=\"1\" class=\"dataframe\">\n",
       "  <thead>\n",
       "    <tr style=\"text-align: right;\">\n",
       "      <th></th>\n",
       "      <th>Tweet</th>\n",
       "      <th>Time</th>\n",
       "      <th>User</th>\n",
       "    </tr>\n",
       "  </thead>\n",
       "  <tbody>\n",
       "    <tr>\n",
       "      <th>0</th>\n",
       "      <td>RT @adaymoodd: หารองพื้นถูกและดี แนะนำรองพื้นแ...</td>\n",
       "      <td>2023-02-24 05:53:48+00:00</td>\n",
       "      <td>BBEZNZ</td>\n",
       "    </tr>\n",
       "    <tr>\n",
       "      <th>1</th>\n",
       "      <td>RT @siriluckxn: ตื่นเช้ามาคือง่วงไม่ไหว ก่อนออ...</td>\n",
       "      <td>2023-02-24 05:47:12+00:00</td>\n",
       "      <td>lilacxcrescent</td>\n",
       "    </tr>\n",
       "    <tr>\n",
       "      <th>2</th>\n",
       "      <td>RT @adaymoodd: หารองพื้นถูกและดี แนะนำรองพื้นแ...</td>\n",
       "      <td>2023-02-24 05:44:57+00:00</td>\n",
       "      <td>lilacxcrescent</td>\n",
       "    </tr>\n",
       "    <tr>\n",
       "      <th>3</th>\n",
       "      <td>ส่งต่อเคส IPhone 13 promax (ไม่เคยใส่)\\n\\n🌷  4...</td>\n",
       "      <td>2023-02-24 05:42:24+00:00</td>\n",
       "      <td>jn199892</td>\n",
       "    </tr>\n",
       "    <tr>\n",
       "      <th>4</th>\n",
       "      <td>RT @adaymoodd: หารองพื้นถูกและดี แนะนำรองพื้นแ...</td>\n",
       "      <td>2023-02-24 05:35:30+00:00</td>\n",
       "      <td>natjawapd</td>\n",
       "    </tr>\n",
       "  </tbody>\n",
       "</table>\n",
       "</div>"
      ],
      "text/plain": [
       "                                               Tweet  \\\n",
       "0  RT @adaymoodd: หารองพื้นถูกและดี แนะนำรองพื้นแ...   \n",
       "1  RT @siriluckxn: ตื่นเช้ามาคือง่วงไม่ไหว ก่อนออ...   \n",
       "2  RT @adaymoodd: หารองพื้นถูกและดี แนะนำรองพื้นแ...   \n",
       "3  ส่งต่อเคส IPhone 13 promax (ไม่เคยใส่)\\n\\n🌷  4...   \n",
       "4  RT @adaymoodd: หารองพื้นถูกและดี แนะนำรองพื้นแ...   \n",
       "\n",
       "                       Time            User  \n",
       "0 2023-02-24 05:53:48+00:00          BBEZNZ  \n",
       "1 2023-02-24 05:47:12+00:00  lilacxcrescent  \n",
       "2 2023-02-24 05:44:57+00:00  lilacxcrescent  \n",
       "3 2023-02-24 05:42:24+00:00        jn199892  \n",
       "4 2023-02-24 05:35:30+00:00       natjawapd  "
      ]
     },
     "execution_count": 6,
     "metadata": {},
     "output_type": "execute_result"
    }
   ],
   "source": [
    "df.head()"
   ]
  },
  {
   "cell_type": "code",
   "execution_count": 4,
   "metadata": {},
   "outputs": [
    {
     "data": {
      "text/html": [
       "<div>\n",
       "<style scoped>\n",
       "    .dataframe tbody tr th:only-of-type {\n",
       "        vertical-align: middle;\n",
       "    }\n",
       "\n",
       "    .dataframe tbody tr th {\n",
       "        vertical-align: top;\n",
       "    }\n",
       "\n",
       "    .dataframe thead th {\n",
       "        text-align: right;\n",
       "    }\n",
       "</style>\n",
       "<table border=\"1\" class=\"dataframe\">\n",
       "  <thead>\n",
       "    <tr style=\"text-align: right;\">\n",
       "      <th></th>\n",
       "      <th>Unnamed: 0</th>\n",
       "      <th>Tweet</th>\n",
       "    </tr>\n",
       "  </thead>\n",
       "  <tbody>\n",
       "    <tr>\n",
       "      <th>0</th>\n",
       "      <td>0</td>\n",
       "      <td>RT @adaymoodd: หารองพื้นถูกและดี แนะนำรองพื้นแ...</td>\n",
       "    </tr>\n",
       "    <tr>\n",
       "      <th>1</th>\n",
       "      <td>1</td>\n",
       "      <td>RT @ssnnooi: สายชีสต้องลองง!!! ใหม่นุ้ง #ทาโรเ...</td>\n",
       "    </tr>\n",
       "    <tr>\n",
       "      <th>2</th>\n",
       "      <td>2</td>\n",
       "      <td>RT @aispdiary: แท่งเดียวจบ #bewildcosmetics รุ...</td>\n",
       "    </tr>\n",
       "    <tr>\n",
       "      <th>3</th>\n",
       "      <td>3</td>\n",
       "      <td>RT @ssnnooi: มาเมคลุคจากลิปซองนามิ💗 ถูกและดีมี...</td>\n",
       "    </tr>\n",
       "    <tr>\n",
       "      <th>4</th>\n",
       "      <td>4</td>\n",
       "      <td>RT @siriluckxn: มื้อสุดท้ายก่อนนอน ต้องกินอะไร...</td>\n",
       "    </tr>\n",
       "  </tbody>\n",
       "</table>\n",
       "</div>"
      ],
      "text/plain": [
       "   Unnamed: 0                                              Tweet\n",
       "0           0  RT @adaymoodd: หารองพื้นถูกและดี แนะนำรองพื้นแ...\n",
       "1           1  RT @ssnnooi: สายชีสต้องลองง!!! ใหม่นุ้ง #ทาโรเ...\n",
       "2           2  RT @aispdiary: แท่งเดียวจบ #bewildcosmetics รุ...\n",
       "3           3  RT @ssnnooi: มาเมคลุคจากลิปซองนามิ💗 ถูกและดีมี...\n",
       "4           4  RT @siriluckxn: มื้อสุดท้ายก่อนนอน ต้องกินอะไร..."
      ]
     },
     "execution_count": 4,
     "metadata": {},
     "output_type": "execute_result"
    }
   ],
   "source": [
    "# read df from csv\n",
    "df = pd.read_csv('3.csv')\n",
    "df.head()\n",
    "\n",
    "\n"
   ]
  }
 ],
 "metadata": {
  "kernelspec": {
   "display_name": "Python 3",
   "language": "python",
   "name": "python3"
  },
  "language_info": {
   "codemirror_mode": {
    "name": "ipython",
    "version": 3
   },
   "file_extension": ".py",
   "mimetype": "text/x-python",
   "name": "python",
   "nbconvert_exporter": "python",
   "pygments_lexer": "ipython3",
   "version": "3.9.2"
  },
  "orig_nbformat": 4,
  "vscode": {
   "interpreter": {
    "hash": "25034407fed5d681614dac11a1c0537e8cb49e3a8883c071303eea01322943d9"
   }
  }
 },
 "nbformat": 4,
 "nbformat_minor": 2
}
